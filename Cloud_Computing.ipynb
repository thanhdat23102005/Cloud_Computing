{
  "nbformat": 4,
  "nbformat_minor": 0,
  "metadata": {
    "colab": {
      "provenance": [],
      "authorship_tag": "ABX9TyMjSNROLgFVnnu3PpkPdyig",
      "include_colab_link": true
    },
    "kernelspec": {
      "name": "python3",
      "display_name": "Python 3"
    },
    "language_info": {
      "name": "python"
    }
  },
  "cells": [
    {
      "cell_type": "markdown",
      "metadata": {
        "id": "view-in-github",
        "colab_type": "text"
      },
      "source": [
        "<a href=\"https://colab.research.google.com/github/thanhdat23102005/Cloud_Computing/blob/main/Cloud_Computing.ipynb\" target=\"_parent\"><img src=\"https://colab.research.google.com/assets/colab-badge.svg\" alt=\"Open In Colab\"/></a>"
      ]
    },
    {
      "cell_type": "markdown",
      "source": [
        "## Ingest\n"
      ],
      "metadata": {
        "id": "41BTw0Zz3lRg"
      }
    },
    {
      "cell_type": "code",
      "execution_count": null,
      "metadata": {
        "colab": {
          "base_uri": "https://localhost:8080/",
          "height": 35
        },
        "id": "mnICOma-2abi",
        "outputId": "485cadf1-bfaf-41f4-ff17-39cec2c7c5d9"
      },
      "outputs": [
        {
          "output_type": "execute_result",
          "data": {
            "text/plain": [
              "'Hi'"
            ],
            "application/vnd.google.colaboratory.intrinsic+json": {
              "type": "string"
            }
          },
          "metadata": {},
          "execution_count": 1
        }
      ],
      "source": [
        "def Hello():\n",
        "  return \"Hi\"\n",
        "Hello()"
      ]
    },
    {
      "cell_type": "markdown",
      "source": [
        "EDA Exploratory Data Analyst"
      ],
      "metadata": {
        "id": "OQ3eSKNt350P"
      }
    },
    {
      "cell_type": "code",
      "source": [],
      "metadata": {
        "id": "qmpjmm1x4IK3"
      },
      "execution_count": null,
      "outputs": []
    },
    {
      "cell_type": "markdown",
      "source": [
        "## Modeling\n"
      ],
      "metadata": {
        "id": "i_24iAYn4JE3"
      }
    },
    {
      "cell_type": "code",
      "source": [],
      "metadata": {
        "id": "FTS0veDF4Lkv"
      },
      "execution_count": null,
      "outputs": []
    },
    {
      "cell_type": "markdown",
      "source": [
        "## Conclusion\n"
      ],
      "metadata": {
        "id": "IxGXZIib4L1l"
      }
    }
  ]
}